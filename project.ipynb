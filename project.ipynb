{
 "cells": [
  {
   "cell_type": "markdown",
   "id": "ad439747-78e5-43f8-b0b5-3e5fd70fe305",
   "metadata": {},
   "source": [
    "## Army all over the world"
   ]
  },
  {
   "cell_type": "markdown",
   "id": "c5537cdd-8856-4807-a5af-e710ba279be4",
   "metadata": {
    "tags": []
   },
   "source": [
    "\n",
    "### members names:  \n",
    "May Ashkenazi\n",
    "\n",
    "Barak Wizberger\n",
    "\n",
    "Eden Jorno\n",
    "\n",
    "Yuval Fainberg\n"
   ]
  },
  {
   "cell_type": "markdown",
   "id": "e5805e29-a4ab-4f42-a9a3-9bbb8a3863ce",
   "metadata": {},
   "source": [
    "### Data source: \n",
    "https://www.kaggle.com/datasets/prasertk/military-power-by-country-2022"
   ]
  },
  {
   "cell_type": "code",
   "execution_count": 4,
   "id": "5b890a99-0da8-4d69-a2e7-ad76b677b453",
   "metadata": {},
   "outputs": [],
   "source": [
    "url= 'https://github.com/mayas9/my-project/raw/main/global%20firepower%202022%20wide.csv'"
   ]
  },
  {
   "cell_type": "code",
   "execution_count": 15,
   "id": "3ff72622-9e3d-4174-a0cd-a6f0d044f4f3",
   "metadata": {},
   "outputs": [],
   "source": [
    "import pandas as pd\n",
    "import numpy as np\n",
    "import matplotlib.pyplot as plt\n",
    "import seaborn as sns\n",
    "import matplotlib as mpl\n",
    "from IPython.core.display import Image"
   ]
  },
  {
   "cell_type": "code",
   "execution_count": 16,
   "id": "493180ce-1e58-4667-8960-304ed91677f5",
   "metadata": {},
   "outputs": [
    {
     "data": {
      "text/html": [
       "<img src=\"https://raw.githubusercontent.com/mayas9/my-project/main/army%20pic.jpg\" width=\"800\" height=\"600\"/>"
      ],
      "text/plain": [
       "<IPython.core.display.Image object>"
      ]
     },
     "execution_count": 16,
     "metadata": {},
     "output_type": "execute_result"
    }
   ],
   "source": [
    "Image(url= 'https://raw.githubusercontent.com/mayas9/my-project/main/army%20pic.jpg', width= 800 , height= 600)"
   ]
  },
  {
   "cell_type": "code",
   "execution_count": 17,
   "id": "8b306ee7-a39d-46e3-a2f3-4e321a16ecdc",
   "metadata": {},
   "outputs": [
    {
     "data": {
      "text/html": [
       "<img src=\"https://raw.githubusercontent.com/mayas9/my-project/main/%D7%A9%D7%A8%D7%99%D7%95%D7%9F3.jpg\" width=\"800\" height=\"600\"/>"
      ],
      "text/plain": [
       "<IPython.core.display.Image object>"
      ]
     },
     "execution_count": 17,
     "metadata": {},
     "output_type": "execute_result"
    }
   ],
   "source": [
    "Image(url= 'https://raw.githubusercontent.com/mayas9/my-project/main/%D7%A9%D7%A8%D7%99%D7%95%D7%9F3.jpg', width= 800 , height= 600)"
   ]
  },
  {
   "cell_type": "code",
   "execution_count": null,
   "id": "c061dc9b-2b9a-48de-8afa-f8917bc1ba2c",
   "metadata": {},
   "outputs": [],
   "source": []
  }
 ],
 "metadata": {
  "kernelspec": {
   "display_name": "Python 3 (ipykernel)",
   "language": "python",
   "name": "python3"
  },
  "language_info": {
   "codemirror_mode": {
    "name": "ipython",
    "version": 3
   },
   "file_extension": ".py",
   "mimetype": "text/x-python",
   "name": "python",
   "nbconvert_exporter": "python",
   "pygments_lexer": "ipython3",
   "version": "3.10.2"
  }
 },
 "nbformat": 4,
 "nbformat_minor": 5
}
