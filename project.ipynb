{
 "cells": [
  {
   "cell_type": "code",
   "execution_count": 1,
   "id": "5b890a99-0da8-4d69-a2e7-ad76b677b453",
   "metadata": {},
   "outputs": [],
   "source": [
    "url= 'https://github.com/mayas9/my-project/raw/main/global%20firepower%202022%20wide.csv'"
   ]
  },
  {
   "cell_type": "code",
   "execution_count": 2,
   "id": "3ff72622-9e3d-4174-a0cd-a6f0d044f4f3",
   "metadata": {},
   "outputs": [],
   "source": [
    "import pandas as pd\n",
    "import numpy as np\n",
    "import matplotlib.pyplot as plt\n",
    "import seaborn as sns\n",
    "import matplotlib as mpl"
   ]
  },
  {
   "cell_type": "code",
   "execution_count": null,
   "id": "493180ce-1e58-4667-8960-304ed91677f5",
   "metadata": {},
   "outputs": [],
   "source": []
  },
  {
   "cell_type": "code",
   "execution_count": null,
   "id": "10d06d09-8dae-4102-8a2b-453339976b43",
   "metadata": {},
   "outputs": [],
   "source": [
    "member names:\n"
   ]
  }
 ],
 "metadata": {
  "kernelspec": {
   "display_name": "Python 3 (ipykernel)",
   "language": "python",
   "name": "python3"
  },
  "language_info": {
   "codemirror_mode": {
    "name": "ipython",
    "version": 3
   },
   "file_extension": ".py",
   "mimetype": "text/x-python",
   "name": "python",
   "nbconvert_exporter": "python",
   "pygments_lexer": "ipython3",
   "version": "3.10.2"
  }
 },
 "nbformat": 4,
 "nbformat_minor": 5
}
